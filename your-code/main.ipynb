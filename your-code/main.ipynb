{
 "cells": [
  {
   "cell_type": "markdown",
   "metadata": {},
   "source": [
    "# Before your start:\n",
    "\n",
    "    Read the README.md file\n",
    "    Comment as much as you can and use the resources (README.md file)\n",
    "    Happy learning!\n",
    "\n",
    "*Notes:* \n",
    "\n",
    "- Solve the questions with python.\n",
    "\n",
    "- Round the final answer to three decimal places."
   ]
  },
  {
   "cell_type": "code",
   "execution_count": 12,
   "metadata": {},
   "outputs": [],
   "source": [
    "import math\n",
    "import matplotlib.pyplot as plt\n",
    "import scipy.stats as stats"
   ]
  },
  {
   "cell_type": "markdown",
   "metadata": {},
   "source": [
    "## Bernoulli's Distribution\n",
    "\n",
    "In a basket containing 100 fruits, there are 60 apples and 40 oranges. \n",
    "\n",
    "A fruit is picked randomly from the basket. \n",
    "\n",
    "1. **What is the probability that the fruit is apple?**\n",
    "1. **What is the probability that it is an orange?**"
   ]
  },
  {
   "cell_type": "code",
   "execution_count": 1,
   "metadata": {},
   "outputs": [
    {
     "name": "stdout",
     "output_type": "stream",
     "text": [
      "The probability of picking an apple is: 0.60\n",
      "The probability of picking an orange is: 0.40\n"
     ]
    }
   ],
   "source": [
    "total_fruits = 100\n",
    "num_apples = 60\n",
    "num_oranges = total_fruits - num_apples\n",
    "\n",
    "P_apple = num_apples / total_fruits\n",
    "\n",
    "P_orange = num_oranges / total_fruits\n",
    "\n",
    "# Print the probabilities\n",
    "print(f\"The probability of picking an apple is: {P_apple:.2f}\")\n",
    "print(f\"The probability of picking an orange is: {P_orange:.2f}\")"
   ]
  },
  {
   "cell_type": "markdown",
   "metadata": {},
   "source": [
    "Now we take a random sample of 20 fruits from the basket. After each fruit is taken, a new fruit of the same type is replaced in the basket. Therefore, every time we are taking 1 fruit from 100 fruits. \n",
    "\n",
    "1. **What is the probability that the first 5 fruits are all apples?**\n",
    "\n",
    "1. **What is the probability that the first 5 fruits are all apples and the next 15 fruits are all oranges?**\n",
    "\n",
    "You can include the `p` and `q` probabilities you previous calculated in your solution."
   ]
  },
  {
   "cell_type": "code",
   "execution_count": 4,
   "metadata": {},
   "outputs": [
    {
     "name": "stdout",
     "output_type": "stream",
     "text": [
      "The probability that the first 5 fruits are all apples is: 0.078\n",
      "The probability that the first 5 fruits are all apples and the next 15 fruits are all oranges is: 0.000\n"
     ]
    }
   ],
   "source": [
    "total_fruits = 100\n",
    "num_apples = 60\n",
    "num_oranges = total_fruits - num_apples\n",
    "sample_n = 20\n",
    "\n",
    "P_apple = num_apples / total_fruits\n",
    "P_orange = num_oranges / total_fruits\n",
    "\n",
    "P_all_apples = P_apple ** 5\n",
    "\n",
    "P_all_apples_and_oranges = (P_apple ** 5) * (P_orange ** 15)\n",
    "\n",
    "P_all_apples = round(P_all_apples, 3)\n",
    "P_all_apples_and_oranges = round(P_all_apples_and_oranges, 3)\n",
    "\n",
    "print(f\"The probability that the first 5 fruits are all apples is: {P_all_apples:.3f}\")\n",
    "print(f\"The probability that the first 5 fruits are all apples and the next 15 fruits are all oranges is: {P_all_apples_and_oranges:.3f}\")\n",
    "\n"
   ]
  },
  {
   "cell_type": "markdown",
   "metadata": {},
   "source": [
    "## Binomial Distribution\n",
    "\n",
    "Similar to the above problem, this time again we randomly sample 20 fruits.\n",
    "\n",
    "**What is the probability that this time the sample contains 5 apples and 15 oranges?**\n",
    "\n",
    "Please note that this time the order of the fruits being picked does not matter."
   ]
  },
  {
   "cell_type": "code",
   "execution_count": 9,
   "metadata": {},
   "outputs": [
    {
     "name": "stdout",
     "output_type": "stream",
     "text": [
      "The probability of getting 5 apples and 15 oranges in the sample is: 0.001\n"
     ]
    }
   ],
   "source": [
    "\n",
    "total_fruits = 100\n",
    "num_apples = 60\n",
    "num_oranges = total_fruits - num_apples\n",
    "sample_n = 20\n",
    "\n",
    "P_apple = num_apples / total_fruits\n",
    "P_orange = num_oranges / total_fruits\n",
    "\n",
    "def n_choose_k(n, k):\n",
    "    return math.factorial(n) / (math.factorial(k) * math.factorial(n - k))\n",
    "\n",
    "P_5_apples_15_oranges = n_choose_k(sample_n, 5) * (P_apple ** 5) * (P_orange ** 15)\n",
    "\n",
    "P_5_apples_15_oranges = round(P_5_apples_15_oranges, 3)\n",
    "\n",
    "print(f\"The probability of getting 5 apples and 15 oranges in the sample is: {P_5_apples_15_oranges:.3f}\")\n"
   ]
  },
  {
   "cell_type": "markdown",
   "metadata": {},
   "source": [
    "In the lesson we also discussed CDF (cumulative distribution function). In the context of the above problem, **what is the probability that less than 5 fruits picked are apples?**\n",
    "\n",
    "Write the formula and calculate the probability below."
   ]
  },
  {
   "cell_type": "code",
   "execution_count": 11,
   "metadata": {},
   "outputs": [
    {
     "name": "stdout",
     "output_type": "stream",
     "text": [
      "The probability that less than 5 fruits picked are apples is: 0.000\n"
     ]
    }
   ],
   "source": [
    "total_fruits = 100\n",
    "num_apples = 60\n",
    "num_oranges = total_fruits - num_apples\n",
    "sample_n = 20\n",
    "\n",
    "P_apple = num_apples / total_fruits\n",
    "P_orange = num_oranges / total_fruits\n",
    "\n",
    "def n_choose_i(n, i):\n",
    "    return math.factorial(n) / (math.factorial(i) * math.factorial(n - i))\n",
    "\n",
    "cumulative_probability = 0\n",
    "for i in range(5):\n",
    "    cumulative_probability += n_choose_i(sample_n, i) * (P_apple ** i) * (P_orange ** (sample_n - i))\n",
    "\n",
    "cumulative_probability = round(cumulative_probability, 3)\n",
    "\n",
    "print(f\"The probability that less than 5 fruits picked are apples is: {cumulative_probability:.3f}\")"
   ]
  },
  {
   "cell_type": "markdown",
   "metadata": {},
   "source": [
    "**Plot the PDF (probability distributiom function) for the above binomial distribution.**\n",
    "\n",
    "*Hint: The range of x in a binomial distribution is from `0` to `n`.*"
   ]
  },
  {
   "cell_type": "code",
   "execution_count": 13,
   "metadata": {},
   "outputs": [
    {
     "data": {
      "image/png": "[encoded data removed]",
      "text/plain": [
       "<Figure size 640x480 with 1 Axes>"
      ]
     },
     "metadata": {},
     "output_type": "display_data"
    }
   ],
   "source": [
    "\n",
    "\n",
    "total_fruits = 100\n",
    "num_apples = 60\n",
    "num_oranges = total_fruits - num_apples\n",
    "sample_n = 20\n",
    "\n",
    "P_apple = num_apples / total_fruits\n",
    "P_orange = num_oranges / total_fruits\n",
    "\n",
    "binom_dist = stats.binom(sample_n, P_apple)\n",
    "\n",
    "x_values = list(range(sample_n + 1))\n",
    "\n",
    "probabilities = binom_dist.pmf(x_values)\n",
    "\n",
    "plt.bar(x_values, probabilities)\n",
    "plt.xlabel('Number of Apples')\n",
    "plt.ylabel('Probability')\n",
    "plt.title('Binomial Distribution - Probability Distribution Function')\n",
    "plt.show()\n"
   ]
  },
  {
   "cell_type": "markdown",
   "metadata": {},
   "source": [
    "## Poisson Distribution\n",
    "\n",
    "In this challenge you are required to use the Math library in python to solve the problems.\n",
    "\n",
    "In the UEFA champions league tournament, the average number of goals scored in a match is 2.3. \n",
    "\n",
    "**What is the probability that the number of goals scored in a match is 5?**\n",
    "\n",
    "```"
   ]
  },
  {
   "cell_type": "code",
   "execution_count": 15,
   "metadata": {},
   "outputs": [
    {
     "name": "stdout",
     "output_type": "stream",
     "text": [
      "The probability of scoring 5 goals in a match is: 0.054\n"
     ]
    }
   ],
   "source": [
    "average_goals = 2.3\n",
    "goals_in_match = 5\n",
    "\n",
    "probability_5_goals = stats.poisson.pmf(goals_in_match, average_goals)\n",
    "\n",
    "probability_5_goals = round(probability_5_goals, 3)\n",
    "\n",
    "print(f\"The probability of scoring 5 goals in a match is: {probability_5_goals:.3f}\")\n",
    "\n"
   ]
  },
  {
   "cell_type": "markdown",
   "metadata": {},
   "source": [
    "**Draw a poisson probability distribution plot for the number of goals to be between 0 to 10.**"
   ]
  },
  {
   "cell_type": "code",
   "execution_count": 16,
   "metadata": {},
   "outputs": [
    {
     "data": {
      "image/png": "[encoded data removed]",
      "text/plain": [
       "<Figure size 640x480 with 1 Axes>"
      ]
     },
     "metadata": {},
     "output_type": "display_data"
    }
   ],
   "source": [
    "average_goals = 2.3\n",
    "num_goals = list(range(11))\n",
    "probabilities = [stats.poisson.pmf(goals, average_goals) for goals in num_goals]\n",
    "\n",
    "plt.bar(num_goals, probabilities)\n",
    "plt.xlabel('Number of Goals')\n",
    "plt.ylabel('Probability')\n",
    "plt.title('Poisson Probability Distribution for Number of Goals')\n",
    "plt.show()"
   ]
  },
  {
   "cell_type": "code",
   "execution_count": null,
   "metadata": {},
   "outputs": [],
   "source": []
  }
 ],
 "metadata": {
  "kernelspec": {
   "display_name": "Python 3",
   "language": "python",
   "name": "python3"
  },
  "language_info": {
   "codemirror_mode": {
    "name": "ipython",
    "version": 3
   },
   "file_extension": ".py",
   "mimetype": "text/x-python",
   "name": "python",
   "nbconvert_exporter": "python",
   "pygments_lexer": "ipython3",
   "version": "3.11.3"
  }
 },
 "nbformat": 4,
 "nbformat_minor": 2
}
