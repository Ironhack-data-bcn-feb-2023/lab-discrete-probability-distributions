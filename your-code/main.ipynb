{
 "cells": [
  {
   "cell_type": "markdown",
   "metadata": {},
   "source": [
    "# Before your start:\n",
    "\n",
    "    Read the README.md file\n",
    "    Comment as much as you can and use the resources (README.md file)\n",
    "    Happy learning!\n",
    "\n",
    "*Notes:* \n",
    "\n",
    "- Solve the questions with python.\n",
    "\n",
    "- Round the final answer to three decimal places."
   ]
  },
  {
   "cell_type": "markdown",
   "metadata": {},
   "source": [
    "## Bernoulli's Distribution\n",
    "\n",
    "In a basket containing 100 fruits, there are 60 apples and 40 oranges. \n",
    "\n",
    "A fruit is picked randomly from the basket. \n",
    "\n",
    "1. **What is the probability that the fruit is apple?**\n",
    "1. **What is the probability that it is an orange?**"
   ]
  },
  {
   "cell_type": "code",
   "execution_count": 4,
   "metadata": {},
   "outputs": [
    {
     "name": "stdout",
     "output_type": "stream",
     "text": [
      "probability of getting an apple is: 60.0%\n",
      "probability of getting an orange is: 40.0%\n"
     ]
    }
   ],
   "source": [
    "apples = 60\n",
    "oranges = 40\n",
    "total_fruits = apples + oranges\n",
    "p_apple = apples/total_fruits\n",
    "p_orange = oranges/total_fruits\n",
    "\n",
    "print(f'probability of getting an apple is: {round(p_apple*100, 3)}%')\n",
    "print(f'probability of getting an orange is: {round(p_orange*100, 3)}%')"
   ]
  },
  {
   "cell_type": "markdown",
   "metadata": {},
   "source": [
    "Now we take a random sample of 20 fruits from the basket. After each fruit is taken, a new fruit of the same type is replaced in the basket. Therefore, every time we are taking 1 fruit from 100 fruits. \n",
    "\n",
    "1. **What is the probability that the first 5 fruits are all apples?**\n",
    "\n",
    "1. **What is the probability that the first 5 fruits are all apples and the next 15 fruits are all oranges?**\n",
    "\n",
    "You can include the `p` and `q` probabilities you previous calculated in your solution."
   ]
  },
  {
   "cell_type": "code",
   "execution_count": 12,
   "metadata": {},
   "outputs": [
    {
     "name": "stdout",
     "output_type": "stream",
     "text": [
      "Probability of getting 5 apples (with replacement): 7.776%\n",
      "Probability of getting 5 apples and 15 oranges (with replacement): 8.349416423424005e-06%\n"
     ]
    }
   ],
   "source": [
    "p_5_apples = p_apple**5\n",
    "p_5_apples_15_oranges = p_5_apples * (p_orange**15)\n",
    "\n",
    "print(f'Probability of getting 5 apples (with replacement): {round(p_5_apples*100, 3)}%')\n",
    "print(f'Probability of getting 5 apples and 15 oranges (with replacement): {p_5_apples_15_oranges*100}%')"
   ]
  },
  {
   "cell_type": "markdown",
   "metadata": {},
   "source": [
    "## Binomial Distribution\n",
    "\n",
    "Similar to the above problem, this time again we randomly sample 20 fruits.\n",
    "\n",
    "**What is the probability that this time the sample contains 5 apples and 15 oranges?**\n",
    "\n",
    "Please note that this time the order of the fruits being picked does not matter."
   ]
  },
  {
   "cell_type": "code",
   "execution_count": 2,
   "metadata": {},
   "outputs": [],
   "source": [
    "from scipy.stats import binom"
   ]
  },
  {
   "cell_type": "code",
   "execution_count": 3,
   "metadata": {},
   "outputs": [],
   "source": [
    "def factorial (n):\n",
    "    if n == 0:\n",
    "        return 1\n",
    "    else:\n",
    "        return factorial(n-1) * n"
   ]
  },
  {
   "cell_type": "code",
   "execution_count": 11,
   "metadata": {},
   "outputs": [
    {
     "name": "stdout",
     "output_type": "stream",
     "text": [
      "Probability of getting 5 apples and 15 oranges is: 4.09%\n"
     ]
    }
   ],
   "source": [
    "n = 20\n",
    "\n",
    "k_apple = 5\n",
    "k_orange = 15\n",
    "\n",
    "p_apple = k_apple / n\n",
    "p_orange = k_orange / n\n",
    "\n",
    "apple_binom = binom.pmf(k_apple, n, p_apple)\n",
    "orange_binom = binom.pmf(k_orange, n, p_orange)\n",
    "\n",
    "Prob = apple_binom * orange_binom * 100\n",
    "\n",
    "print(f'Probability of getting 5 apples and 15 oranges is: {round(Prob, 2)}%')\n"
   ]
  },
  {
   "cell_type": "markdown",
   "metadata": {},
   "source": [
    "In the lesson we also discussed CDF (cumulative distribution function). In the context of the above problem, **what is the probability that less than 5 fruits picked are apples?**\n",
    "\n",
    "Write the formula and calculate the probability below."
   ]
  },
  {
   "cell_type": "code",
   "execution_count": 12,
   "metadata": {},
   "outputs": [
    {
     "name": "stdout",
     "output_type": "stream",
     "text": [
      "The probability of getting less than 5 apples is: 61.72%\n"
     ]
    }
   ],
   "source": [
    "from scipy.stats import binom\n",
    "\n",
    "cumulative_probability = sum(binom.pmf(i, n, p_apple) for i in range(k_apple + 1))\n",
    "\n",
    "print(f'The probability of getting less than 5 apples is: {round(cumulative_probability*100, 2)}%')\n"
   ]
  },
  {
   "cell_type": "markdown",
   "metadata": {},
   "source": [
    "**Plot the PDF (probability distributiom function) for the above binomial distribution.**\n",
    "\n",
    "*Hint: The range of x in a binomial distribution is from `0` to `n`.*"
   ]
  },
  {
   "cell_type": "code",
   "execution_count": 15,
   "metadata": {},
   "outputs": [
    {
     "data": {
      "image/png": "[encoded data removed]",
      "text/plain": [
       "<Figure size 640x480 with 1 Axes>"
      ]
     },
     "metadata": {},
     "output_type": "display_data"
    }
   ],
   "source": [
    "import numpy as np\n",
    "import matplotlib.pyplot as plt\n",
    "from scipy.stats import binom\n",
    "\n",
    "n = 20\n",
    "\n",
    "p_apple = 0.4\n",
    "\n",
    "k_values = np.arange(0, n + 1)\n",
    "\n",
    "pmf_values = binom.pmf(k_values, n, p_apple)\n",
    "\n",
    "plt.bar(k_values, pmf_values)\n",
    "plt.xlabel('Number of Apples (k)')\n",
    "plt.ylabel('Probability')\n",
    "plt.title('Binomial Distribution for Picking Apples')\n",
    "plt.xticks(k_values)\n",
    "plt.show()\n"
   ]
  },
  {
   "cell_type": "markdown",
   "metadata": {},
   "source": [
    "## Poisson Distribution\n",
    "\n",
    "In this challenge you are required to use the Math library in python to solve the problems.\n",
    "\n",
    "In the UEFA champions league tournament, the average number of goals scored in a match is 2.3. \n",
    "\n",
    "**What is the probability that the number of goals scored in a match is 5?**\n",
    "\n",
    "```"
   ]
  },
  {
   "cell_type": "code",
   "execution_count": 20,
   "metadata": {},
   "outputs": [
    {
     "name": "stdout",
     "output_type": "stream",
     "text": [
      "The probability of scoring exactly 5 goals in a match is: 5.38%\n"
     ]
    }
   ],
   "source": [
    "import math\n",
    "import numpy as np\n",
    "from scipy.stats import poisson\n",
    "\n",
    "average_goals = 2.3\n",
    "\n",
    "k_goals = 5\n",
    "\n",
    "probability = poisson.pmf(k_goals, average_goals)\n",
    "\n",
    "print(f\"The probability of scoring exactly 5 goals in a match is: {probability*100:.2f}%\")\n"
   ]
  },
  {
   "cell_type": "markdown",
   "metadata": {},
   "source": [
    "**Draw a poisson probability distribution plot for the number of goals to be between 0 to 10.**"
   ]
  },
  {
   "cell_type": "code",
   "execution_count": 21,
   "metadata": {},
   "outputs": [
    {
     "data": {
      "image/png": "[encoded data removed]",
      "text/plain": [
       "<Figure size 640x480 with 1 Axes>"
      ]
     },
     "metadata": {},
     "output_type": "display_data"
    }
   ],
   "source": [
    "\n",
    "k_values = np.arange(0, 11)\n",
    "\n",
    "pmf_values = poisson.pmf(k_values, average_goals)\n",
    "\n",
    "plt.bar(k_values, pmf_values)\n",
    "plt.xlabel('Number of Goals')\n",
    "plt.ylabel('Probability')\n",
    "plt.title('Poisson Probability Distribution for Number of Goals')\n",
    "plt.xticks(k_values)\n",
    "plt.show()\n"
   ]
  }
 ],
 "metadata": {
  "kernelspec": {
   "display_name": "Python 3",
   "language": "python",
   "name": "python3"
  },
  "language_info": {
   "codemirror_mode": {
    "name": "ipython",
    "version": 3
   },
   "file_extension": ".py",
   "mimetype": "text/x-python",
   "name": "python",
   "nbconvert_exporter": "python",
   "pygments_lexer": "ipython3",
   "version": "3.9.16"
  }
 },
 "nbformat": 4,
 "nbformat_minor": 2
}
