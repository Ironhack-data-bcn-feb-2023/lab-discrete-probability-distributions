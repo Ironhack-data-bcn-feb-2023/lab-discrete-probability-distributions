{
 "cells": [
  {
   "cell_type": "markdown",
   "metadata": {},
   "source": [
    "# Before your start:\n",
    "\n",
    "    Read the README.md file\n",
    "    Comment as much as you can and use the resources (README.md file)\n",
    "    Happy learning!\n",
    "\n",
    "*Notes:* \n",
    "\n",
    "- Solve the questions with python.\n",
    "\n",
    "- Round the final answer to three decimal places."
   ]
  },
  {
   "cell_type": "markdown",
   "metadata": {},
   "source": [
    "## Bernoulli's Distribution\n",
    "\n",
    "In a basket containing 100 fruits, there are 60 apples and 40 oranges. \n",
    "\n",
    "A fruit is picked randomly from the basket. \n",
    "\n",
    "1. **What is the probability that the fruit is apple?**\n",
    "1. **What is the probability that it is an orange?**"
   ]
  },
  {
   "cell_type": "code",
   "execution_count": 1,
   "metadata": {},
   "outputs": [
    {
     "name": "stdout",
     "output_type": "stream",
     "text": [
      "1. The probability that the fruit is apple is: 0.6\n",
      "2. The probability that the fruit is orange is: 0.4\n"
     ]
    }
   ],
   "source": [
    "basket_total=100\n",
    "apples=60\n",
    "oranges=40\n",
    "\n",
    "p=apples/basket_total\n",
    "q=oranges/basket_total\n",
    "\n",
    "print(f'1. The probability that the fruit is apple is: {p}')\n",
    "print(f'2. The probability that the fruit is orange is: {q}')"
   ]
  },
  {
   "cell_type": "markdown",
   "metadata": {},
   "source": [
    "Now we take a random sample of 20 fruits from the basket. After each fruit is taken, a new fruit of the same type is replaced in the basket. Therefore, every time we are taking 1 fruit from 100 fruits. \n",
    "\n",
    "1. **What is the probability that the first 5 fruits are all apples?**\n",
    "\n",
    "1. **What is the probability that the first 5 fruits are all apples and the next 15 fruits are all oranges?**\n",
    "\n",
    "You can include the `p` and `q` probabilities you previous calculated in your solution."
   ]
  },
  {
   "cell_type": "code",
   "execution_count": 14,
   "metadata": {},
   "outputs": [
    {
     "name": "stdout",
     "output_type": "stream",
     "text": [
      "1. The probability that the first 5 fruit are apple is: 0.07775999999999998\n",
      "2. The probability that the first 5 fruit are apple and then the following 15 are oranges: 8.349416423424006e-08\n"
     ]
    }
   ],
   "source": [
    "# your code here\n",
    "from scipy.stats import bernoulli\n",
    "\n",
    "apples_bernouilli = bernoulli(p)\n",
    "oranges_bernouilli = bernoulli(q)\n",
    "\n",
    "probability_5_apples = apples_bernouilli.pmf(1) ** 5\n",
    "probability_15_oranges = oranges_bernouilli.pmf(1) ** 15\n",
    "\n",
    "print(f'1. The probability that the first 5 fruit are apple is: {probability_5_apples}')\n",
    "print(f'2. The probability that the first 5 fruit are apple and then the following 15 are oranges: {probability_5_apples * probability_15_oranges}')"
   ]
  },
  {
   "cell_type": "markdown",
   "metadata": {},
   "source": [
    "## Binomial Distribution\n",
    "\n",
    "Similar to the above problem, this time again we randomly sample 20 fruits.\n",
    "\n",
    "**What is the probability that this time the sample contains 5 apples and 15 oranges?**\n",
    "\n",
    "Please note that this time the order of the fruits being picked does not matter."
   ]
  },
  {
   "cell_type": "code",
   "execution_count": 20,
   "metadata": {},
   "outputs": [
    {
     "name": "stdout",
     "output_type": "stream",
     "text": [
      "The probability that the 20 fruits picked bing 5 apples and 15 oranges is: 0.000361102068154369\n"
     ]
    }
   ],
   "source": [
    "# your code here\n",
    "from scipy.stats import binom\n",
    "apples_binom = binom(5,p).pmf(1)\n",
    "oranges_binom = binom(15,q).pmf(1)\n",
    "\n",
    "print(f'The probability that the 20 fruits picked bing 5 apples and 15 oranges is: {apples_binom*oranges_binom}')"
   ]
  },
  {
   "cell_type": "markdown",
   "metadata": {},
   "source": [
    "In the lesson we also discussed CDF (cumulative distribution function). In the context of the above problem, **what is the probability that less than 5 fruits picked are apples?**\n",
    "\n",
    "Write the formula and calculate the probability below."
   ]
  },
  {
   "cell_type": "code",
   "execution_count": 37,
   "metadata": {},
   "outputs": [
    {
     "name": "stdout",
     "output_type": "stream",
     "text": [
      "The probability of having 1 apple from 5 picks is: 0.08704000000000006\n",
      "The probability of having 2 apple from 5 picks is: 0.31744000000000017\n",
      "The probability of having 3 apple from 5 picks is: 0.6630400000000001\n",
      "The probability of having 4 apple from 5 picks is: 0.92224\n"
     ]
    }
   ],
   "source": [
    "# your code here\n",
    "print(f'The probability of having 1 apple from 5 picks is: {binom(5,p).cdf(1)}')\n",
    "print(f'The probability of having 2 apple from 5 picks is: {binom(5,p).cdf(2)}')\n",
    "print(f'The probability of having 3 apple from 5 picks is: {binom(5,p).cdf(3)}')\n",
    "print(f'The probability of having 4 apple from 5 picks is: {binom(5,p).cdf(4)}')"
   ]
  },
  {
   "cell_type": "markdown",
   "metadata": {},
   "source": [
    "**Plot the PDF (probability distributiom function) for the above binomial distribution.**\n",
    "\n",
    "*Hint: The range of x in a binomial distribution is from `0` to `n`.*"
   ]
  },
  {
   "cell_type": "code",
   "execution_count": 47,
   "metadata": {},
   "outputs": [
    {
     "data": {
      "image/png": "[encoded data removed]",
      "text/plain": [
       "<Figure size 640x480 with 1 Axes>"
      ]
     },
     "metadata": {},
     "output_type": "display_data"
    }
   ],
   "source": [
    "# your code here\n",
    "# Please label the axes and give a title to the plot\n",
    "import numpy as np\n",
    "from matplotlib import pyplot as plt\n",
    "x = np.arange(0,5)\n",
    "plt.plot(x, binom(5,p).cdf(x), \"bo\")\n",
    "plt.vlines(x, 0, binom(5,p).cdf(x), colors='b', lw=10, alpha=0.5)\n",
    "plt.title(\"Probability of picking an apple from 5 picks\");"
   ]
  },
  {
   "cell_type": "markdown",
   "metadata": {},
   "source": [
    "## Poisson Distribution\n",
    "\n",
    "In this challenge you are required to use the Math library in python to solve the problems.\n",
    "\n",
    "In the UEFA champions league tournament, the average number of goals scored in a match is 2.3. \n",
    "\n",
    "**What is the probability that the number of goals scored in a match is 5?**\n",
    "\n",
    "```"
   ]
  },
  {
   "cell_type": "code",
   "execution_count": 46,
   "metadata": {},
   "outputs": [
    {
     "name": "stdout",
     "output_type": "stream",
     "text": [
      "The probability of scoring 5 goals in a match is: 0.053775025581946814\n"
     ]
    }
   ],
   "source": [
    "# your code here\n",
    "from scipy.stats import poisson\n",
    "goals_av=2.3\n",
    "goals_needed=5\n",
    "\n",
    "prob_5_goals = poisson(goals_av).pmf(goals_needed)\n",
    "print(f'The probability of scoring 5 goals in a match is: {prob_5_goals}')"
   ]
  },
  {
   "cell_type": "markdown",
   "metadata": {},
   "source": [
    "**Draw a poisson probability distribution plot for the number of goals to be between 0 to 10.**"
   ]
  },
  {
   "cell_type": "code",
   "execution_count": 52,
   "metadata": {},
   "outputs": [
    {
     "data": {
      "image/png": "[encoded data removed]",
      "text/plain": [
       "<Figure size 640x480 with 1 Axes>"
      ]
     },
     "metadata": {},
     "output_type": "display_data"
    }
   ],
   "source": [
    "# your code here\n",
    "# Please label the axes and give a title to the plot\n",
    "\n",
    "x = np.arange(0,10)\n",
    "plt.plot(x,  poisson(goals_av).pmf(x), \"bo\")\n",
    "plt.vlines(x, 0,  poisson(goals_av).pmf(x), colors='b', lw=5, alpha=0.5)\n",
    "plt.xlabel(\"Number of goals scored\")\n",
    "plt.ylabel(\"Density\")\n",
    "plt.title(\"Poisson probability distribution of scoring X goals\", size=20);"
   ]
  },
  {
   "cell_type": "code",
   "execution_count": null,
   "metadata": {},
   "outputs": [],
   "source": []
  }
 ],
 "metadata": {
  "kernelspec": {
   "display_name": "Python 3 (ipykernel)",
   "language": "python",
   "name": "python3"
  },
  "language_info": {
   "codemirror_mode": {
    "name": "ipython",
    "version": 3
   },
   "file_extension": ".py",
   "mimetype": "text/x-python",
   "name": "python",
   "nbconvert_exporter": "python",
   "pygments_lexer": "ipython3",
   "version": "3.10.9"
  }
 },
 "nbformat": 4,
 "nbformat_minor": 2
}
